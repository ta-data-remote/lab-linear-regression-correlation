{
 "cells": [
  {
   "cell_type": "markdown",
   "metadata": {
    "toc": true
   },
   "source": [
    "<h1>Table of Contents<span class=\"tocSkip\"></span></h1>\n",
    "<div class=\"toc\"><ul class=\"toc-item\"><li><span><a href=\"#Linear-Regression-and-Correlation\" data-toc-modified-id=\"Linear-Regression-and-Correlation-1\"><span class=\"toc-item-num\">1&nbsp;&nbsp;</span>Linear Regression and Correlation</a></span><ul class=\"toc-item\"><li><span><a href=\"#Challenge-1\" data-toc-modified-id=\"Challenge-1-1.1\"><span class=\"toc-item-num\">1.1&nbsp;&nbsp;</span>Challenge 1</a></span><ul class=\"toc-item\"><li><ul class=\"toc-item\"><li><span><a href=\"#1.-Plot-the-scatter-chart-of-Age-and-Absences.-Comment-the-result.-Do-you-see-any-relation-between-Age-and-Absences?\" data-toc-modified-id=\"1.-Plot-the-scatter-chart-of-Age-and-Absences.-Comment-the-result.-Do-you-see-any-relation-between-Age-and-Absences?-1.1.0.1\"><span class=\"toc-item-num\">1.1.0.1&nbsp;&nbsp;</span>1. Plot the scatter chart of <code>Age</code> and <code>Absences</code>. Comment the result. Do you see any relation between <code>Age</code> and <code>Absences</code>?</a></span></li><li><span><a href=\"#2.--Define-a-function-to-calculate-the-slope-and-intercept-of-the-regression-line-for-two-variables.-Your-are-not-allowed-to-use-any-functions-or-methods-that-directly-calculate-those-parameters.\" data-toc-modified-id=\"2.--Define-a-function-to-calculate-the-slope-and-intercept-of-the-regression-line-for-two-variables.-Your-are-not-allowed-to-use-any-functions-or-methods-that-directly-calculate-those-parameters.-1.1.0.2\"><span class=\"toc-item-num\">1.1.0.2&nbsp;&nbsp;</span>2.- Define a function to calculate the slope and intercept of the regression line for two variables. Your are not allowed to use any functions or methods that directly calculate those parameters.</a></span></li><li><span><a href=\"#3.--Use-the-function-you-defined-in-step-2-to-calculate-the-regression-line-for-Age-and-Absences.-Plot-it-and-comment-your-results.\" data-toc-modified-id=\"3.--Use-the-function-you-defined-in-step-2-to-calculate-the-regression-line-for-Age-and-Absences.-Plot-it-and-comment-your-results.-1.1.0.3\"><span class=\"toc-item-num\">1.1.0.3&nbsp;&nbsp;</span>3.- Use the function you defined in step 2 to calculate the regression line for <code>Age</code> and <code>Absences</code>. Plot it and comment your results.</a></span></li><li><span><a href=\"#4.--Define-a-function-to-calculate-the-covariance-and-the-correlation-of-two-variables.\" data-toc-modified-id=\"4.--Define-a-function-to-calculate-the-covariance-and-the-correlation-of-two-variables.-1.1.0.4\"><span class=\"toc-item-num\">1.1.0.4&nbsp;&nbsp;</span>4.- Define a function to calculate the covariance and the correlation of two variables.</a></span></li><li><span><a href=\"#5.--Use-the-function-you-defined-in-step-4-to-calculate-the-covariance-and-the-correlation-of-Age-and-Absences.-Compare-them-and-comment.\" data-toc-modified-id=\"5.--Use-the-function-you-defined-in-step-4-to-calculate-the-covariance-and-the-correlation-of-Age-and-Absences.-Compare-them-and-comment.-1.1.0.5\"><span class=\"toc-item-num\">1.1.0.5&nbsp;&nbsp;</span>5.- Use the function you defined in step 4 to calculate the covariance and the correlation of <code>Age</code> and <code>Absences</code>. Compare them and comment.</a></span></li><li><span><a href=\"#6.--Summarize-your-results,-interpret-them-and-give-some-insights.-Can-you-confirm-that-the-age-is-an-indicator-of-absenteeism?\" data-toc-modified-id=\"6.--Summarize-your-results,-interpret-them-and-give-some-insights.-Can-you-confirm-that-the-age-is-an-indicator-of-absenteeism?-1.1.0.6\"><span class=\"toc-item-num\">1.1.0.6&nbsp;&nbsp;</span>6.- Summarize your results, interpret them and give some insights. Can you confirm that the age is an indicator of absenteeism?</a></span></li></ul></li></ul></li><li><span><a href=\"#Challenge-2\" data-toc-modified-id=\"Challenge-2-1.2\"><span class=\"toc-item-num\">1.2&nbsp;&nbsp;</span>Challenge 2</a></span><ul class=\"toc-item\"><li><ul class=\"toc-item\"><li><span><a href=\"#1.--Calculate-the-covariance-and-the-correlation-of-X-and-Y.-Comment-on-the-results.\" data-toc-modified-id=\"1.--Calculate-the-covariance-and-the-correlation-of-X-and-Y.-Comment-on-the-results.-1.2.0.1\"><span class=\"toc-item-num\">1.2.0.1&nbsp;&nbsp;</span>1.- Calculate the covariance and the correlation of <code>X</code> and <code>Y</code>. Comment on the results.</a></span></li><li><span><a href=\"#2.--Plot-the-scatter-chart-of-X-and-Y.-Comment-on-the-results.\" data-toc-modified-id=\"2.--Plot-the-scatter-chart-of-X-and-Y.-Comment-on-the-results.-1.2.0.2\"><span class=\"toc-item-num\">1.2.0.2&nbsp;&nbsp;</span>2.- Plot the scatter chart of <code>X</code> and <code>Y</code>. Comment on the results.</a></span></li><li><span><a href=\"#3.--Calculate-the-regression-line-for-X-and-Y.-Commment-on-the-results.\" data-toc-modified-id=\"3.--Calculate-the-regression-line-for-X-and-Y.-Commment-on-the-results.-1.2.0.3\"><span class=\"toc-item-num\">1.2.0.3&nbsp;&nbsp;</span>3.- Calculate the regression line for <code>X</code> and <code>Y</code>. Commment on the results.</a></span></li><li><span><a href=\"#4.--What-is-your-conclusion?-Are-you-the-reason-why-people-is-not-staying-on-Fridays?\" data-toc-modified-id=\"4.--What-is-your-conclusion?-Are-you-the-reason-why-people-is-not-staying-on-Fridays?-1.2.0.4\"><span class=\"toc-item-num\">1.2.0.4&nbsp;&nbsp;</span>4.- What is your conclusion? Are you the reason why people is not staying on Fridays?</a></span></li></ul></li></ul></li><li><span><a href=\"#Bonus-Challenge:-Error-Analysis\" data-toc-modified-id=\"Bonus-Challenge:-Error-Analysis-1.3\"><span class=\"toc-item-num\">1.3&nbsp;&nbsp;</span>Bonus Challenge: Error Analysis</a></span><ul class=\"toc-item\"><li><ul class=\"toc-item\"><li><span><a href=\"#1.--First-create-a-new-column-expected_Y-in-ironbeers_df-to-store-the-expected-Y-value-for-each-X.\" data-toc-modified-id=\"1.--First-create-a-new-column-expected_Y-in-ironbeers_df-to-store-the-expected-Y-value-for-each-X.-1.3.0.1\"><span class=\"toc-item-num\">1.3.0.1&nbsp;&nbsp;</span>1.- First create a new column <code>expected_Y</code> in <code>ironbeers_df</code> to store the expected <code>Y</code> value for each <code>X</code>.</a></span></li><li><span><a href=\"#2.--Create-a-new-column-error-in-ironbeers_df-to-store-the-error-between-the-actual-and-expected-values-of-Y.-Plot-the-scatter-chart-of-X-and-error.\" data-toc-modified-id=\"2.--Create-a-new-column-error-in-ironbeers_df-to-store-the-error-between-the-actual-and-expected-values-of-Y.-Plot-the-scatter-chart-of-X-and-error.-1.3.0.2\"><span class=\"toc-item-num\">1.3.0.2&nbsp;&nbsp;</span>2.- Create a new column <code>error</code> in <code>ironbeers_df</code> to store the error between the actual and expected values of <code>Y</code>. Plot the scatter chart of <code>X</code> and <code>error</code>.</a></span></li><li><span><a href=\"#3.--The-closer-the-points-to-zero,-the-best-the-actual-values-fit-the-linear-regression.-Comment-the-plot-above.-Do-you-see-any-particular-points-with-a-high-error?\" data-toc-modified-id=\"3.--The-closer-the-points-to-zero,-the-best-the-actual-values-fit-the-linear-regression.-Comment-the-plot-above.-Do-you-see-any-particular-points-with-a-high-error?-1.3.0.3\"><span class=\"toc-item-num\">1.3.0.3&nbsp;&nbsp;</span>3.- The closer the points to zero, the best the actual values fit the linear regression. Comment the plot above. Do you see any particular points with a high error?</a></span></li><li><span><a href=\"#4.--Remove-the-points-with-a-high-error-and-recalculate-the-regression-line.\" data-toc-modified-id=\"4.--Remove-the-points-with-a-high-error-and-recalculate-the-regression-line.-1.3.0.4\"><span class=\"toc-item-num\">1.3.0.4&nbsp;&nbsp;</span>4.- Remove the points with a high error and recalculate the regression line.</a></span></li><li><span><a href=\"#5.--Calculate-the-correlation.-What-is-happening?-Comment-the-result.\" data-toc-modified-id=\"5.--Calculate-the-correlation.-What-is-happening?-Comment-the-result.-1.3.0.5\"><span class=\"toc-item-num\">1.3.0.5&nbsp;&nbsp;</span>5.- Calculate the correlation. What is happening? Comment the result.</a></span></li></ul></li></ul></li></ul></li></ul></div>"
   ]
  },
  {
   "cell_type": "markdown",
   "metadata": {},
   "source": [
    "# Linear Regression and Correlation\n",
    "\n",
    "## Challenge 1\n",
    "\n",
    "You are the owner of a big company and you suspect that the younger your employees are, the most likely it is that they don't come to work. In order to prove this hypothesis, you have gathered some data:\n",
    "\n",
    "| EmployeeID | Age | Absences |\n",
    "|--------|-----|------------|\n",
    "| 1      | 27  | 15         |\n",
    "| 2      | 61  | 6          |\n",
    "| 3      | 37  | 10         |\n",
    "| 4      | 23  | 18         |\n",
    "| 5      | 46  |  9         |\n",
    "| 6      | 58  |  7         |\n",
    "| 7      | 29  | 14         |\n",
    "| 8      | 36  | 11         |\n",
    "| 9      | 64  |  5         |\n",
    "| 10     | 40  |  8         |\n",
    "\n",
    "You can find this information in the `data` folder of the present repository. \n",
    "\n",
    "Import the necessary libraries to complete the lab here:"
   ]
  },
  {
   "cell_type": "code",
   "execution_count": 1,
   "metadata": {
    "ExecuteTime": {
     "end_time": "2021-04-23T12:58:31.411705Z",
     "start_time": "2021-04-23T12:58:26.946364Z"
    }
   },
   "outputs": [],
   "source": [
    "# Libraries\n",
    "import pandas as pd\n",
    "import numpy as np\n",
    "import scipy.stats as stats\n",
    "from sklearn.linear_model import LinearRegression\n",
    "from sklearn.metrics import mean_squared_error, r2_score\n",
    "from sklearn.model_selection import train_test_split\n",
    "import matplotlib.pyplot as plt\n",
    "import seaborn as sns"
   ]
  },
  {
   "cell_type": "code",
   "execution_count": 2,
   "metadata": {
    "ExecuteTime": {
     "end_time": "2021-04-23T12:58:31.450422Z",
     "start_time": "2021-04-23T12:58:31.414433Z"
    }
   },
   "outputs": [
    {
     "data": {
      "text/html": [
       "<div>\n",
       "<style scoped>\n",
       "    .dataframe tbody tr th:only-of-type {\n",
       "        vertical-align: middle;\n",
       "    }\n",
       "\n",
       "    .dataframe tbody tr th {\n",
       "        vertical-align: top;\n",
       "    }\n",
       "\n",
       "    .dataframe thead th {\n",
       "        text-align: right;\n",
       "    }\n",
       "</style>\n",
       "<table border=\"1\" class=\"dataframe\">\n",
       "  <thead>\n",
       "    <tr style=\"text-align: right;\">\n",
       "      <th></th>\n",
       "      <th>Unnamed: 0</th>\n",
       "      <th>EmployeeID</th>\n",
       "      <th>Age</th>\n",
       "      <th>Absences</th>\n",
       "    </tr>\n",
       "  </thead>\n",
       "  <tbody>\n",
       "    <tr>\n",
       "      <th>0</th>\n",
       "      <td>0</td>\n",
       "      <td>1</td>\n",
       "      <td>27</td>\n",
       "      <td>15</td>\n",
       "    </tr>\n",
       "    <tr>\n",
       "      <th>1</th>\n",
       "      <td>1</td>\n",
       "      <td>2</td>\n",
       "      <td>61</td>\n",
       "      <td>6</td>\n",
       "    </tr>\n",
       "    <tr>\n",
       "      <th>2</th>\n",
       "      <td>2</td>\n",
       "      <td>3</td>\n",
       "      <td>37</td>\n",
       "      <td>10</td>\n",
       "    </tr>\n",
       "    <tr>\n",
       "      <th>3</th>\n",
       "      <td>3</td>\n",
       "      <td>4</td>\n",
       "      <td>23</td>\n",
       "      <td>18</td>\n",
       "    </tr>\n",
       "    <tr>\n",
       "      <th>4</th>\n",
       "      <td>4</td>\n",
       "      <td>5</td>\n",
       "      <td>46</td>\n",
       "      <td>9</td>\n",
       "    </tr>\n",
       "    <tr>\n",
       "      <th>5</th>\n",
       "      <td>5</td>\n",
       "      <td>6</td>\n",
       "      <td>58</td>\n",
       "      <td>7</td>\n",
       "    </tr>\n",
       "    <tr>\n",
       "      <th>6</th>\n",
       "      <td>6</td>\n",
       "      <td>7</td>\n",
       "      <td>29</td>\n",
       "      <td>14</td>\n",
       "    </tr>\n",
       "    <tr>\n",
       "      <th>7</th>\n",
       "      <td>7</td>\n",
       "      <td>8</td>\n",
       "      <td>36</td>\n",
       "      <td>11</td>\n",
       "    </tr>\n",
       "    <tr>\n",
       "      <th>8</th>\n",
       "      <td>8</td>\n",
       "      <td>9</td>\n",
       "      <td>64</td>\n",
       "      <td>5</td>\n",
       "    </tr>\n",
       "    <tr>\n",
       "      <th>9</th>\n",
       "      <td>9</td>\n",
       "      <td>10</td>\n",
       "      <td>40</td>\n",
       "      <td>8</td>\n",
       "    </tr>\n",
       "  </tbody>\n",
       "</table>\n",
       "</div>"
      ],
      "text/plain": [
       "   Unnamed: 0  EmployeeID  Age  Absences\n",
       "0           0           1   27        15\n",
       "1           1           2   61         6\n",
       "2           2           3   37        10\n",
       "3           3           4   23        18\n",
       "4           4           5   46         9\n",
       "5           5           6   58         7\n",
       "6           6           7   29        14\n",
       "7           7           8   36        11\n",
       "8           8           9   64         5\n",
       "9           9          10   40         8"
      ]
     },
     "execution_count": 2,
     "metadata": {},
     "output_type": "execute_result"
    }
   ],
   "source": [
    "data = pd.read_csv(\"../data/absences.csv\")\n",
    "data\n"
   ]
  },
  {
   "cell_type": "markdown",
   "metadata": {},
   "source": [
    "#### 1. Plot the scatter chart of `Age` and `Absences`. Comment the result. Do you see any relation between `Age` and `Absences`?"
   ]
  },
  {
   "cell_type": "code",
   "execution_count": 3,
   "metadata": {
    "ExecuteTime": {
     "end_time": "2021-04-23T12:58:31.750176Z",
     "start_time": "2021-04-23T12:58:31.469923Z"
    }
   },
   "outputs": [
    {
     "data": {
      "text/plain": [
       "<AxesSubplot:xlabel='Age', ylabel='Absences'>"
      ]
     },
     "execution_count": 3,
     "metadata": {},
     "output_type": "execute_result"
    },
    {
     "data": {
      "image/png": "[encoded data removed]",
      "text/plain": [
       "<Figure size 432x288 with 1 Axes>"
      ]
     },
     "metadata": {
      "needs_background": "light"
     },
     "output_type": "display_data"
    }
   ],
   "source": [
    "sns.scatterplot(data=data, x=\"Age\", y=\"Absences\")"
   ]
  },
  {
   "cell_type": "code",
   "execution_count": 4,
   "metadata": {
    "ExecuteTime": {
     "end_time": "2021-04-23T12:58:31.769425Z",
     "start_time": "2021-04-23T12:58:31.755696Z"
    }
   },
   "outputs": [
    {
     "data": {
      "text/plain": [
       "'\\nYes, there is a negative ralation between age and absences, the higher the age, the lower the number of absences.\\n'"
      ]
     },
     "execution_count": 4,
     "metadata": {},
     "output_type": "execute_result"
    }
   ],
   "source": [
    "\"\"\"\n",
    "Yes, there is a negative ralation between age and absences, the higher the age, the lower the number of absences.\n",
    "\"\"\""
   ]
  },
  {
   "cell_type": "markdown",
   "metadata": {},
   "source": [
    "#### 2.- Define a function to calculate the slope and intercept of the regression line for two variables. Your are not allowed to use any functions or methods that directly calculate those parameters."
   ]
  },
  {
   "cell_type": "code",
   "execution_count": 10,
   "metadata": {
    "ExecuteTime": {
     "end_time": "2021-04-23T13:04:22.261128Z",
     "start_time": "2021-04-23T13:04:22.253010Z"
    }
   },
   "outputs": [],
   "source": [
    "def sloper(x,y):\n",
    "    slope = ( np.mean(x*y) - ( np.mean(x) * np.mean(y) ) ) / ( np.mean( np.power(x, 2) ) - np.power( np.mean(x), 2) )\n",
    "    return slope\n",
    "    \n",
    "def intercepter(x, y, slope):\n",
    "    intercept = np.mean(y) - ( np.mean(x) * slope )\n",
    "    return intercept"
   ]
  },
  {
   "cell_type": "markdown",
   "metadata": {},
   "source": [
    "#### 3.- Use the function you defined in step 2 to calculate the regression line for `Age` and `Absences`. Plot it and comment your results."
   ]
  },
  {
   "cell_type": "code",
   "execution_count": 11,
   "metadata": {
    "ExecuteTime": {
     "end_time": "2021-04-23T13:04:22.730790Z",
     "start_time": "2021-04-23T13:04:22.716992Z"
    }
   },
   "outputs": [
    {
     "data": {
      "text/plain": [
       "-0.26810883370334093"
      ]
     },
     "execution_count": 11,
     "metadata": {},
     "output_type": "execute_result"
    }
   ],
   "source": [
    "S = sloper(data[\"Age\"],data[\"Absences\"])\n",
    "S"
   ]
  },
  {
   "cell_type": "code",
   "execution_count": 13,
   "metadata": {
    "ExecuteTime": {
     "end_time": "2021-04-23T13:04:26.962726Z",
     "start_time": "2021-04-23T13:04:26.952207Z"
    }
   },
   "outputs": [
    {
     "data": {
      "text/plain": [
       "21.587381898910657"
      ]
     },
     "execution_count": 13,
     "metadata": {},
     "output_type": "execute_result"
    }
   ],
   "source": [
    "I = intercepter(data[\"Age\"],data[\"Absences\"],S)\n",
    "I"
   ]
  },
  {
   "cell_type": "code",
   "execution_count": 47,
   "metadata": {
    "ExecuteTime": {
     "end_time": "2021-04-23T15:46:25.020709Z",
     "start_time": "2021-04-23T15:46:24.778280Z"
    }
   },
   "outputs": [
    {
     "data": {
      "text/plain": [
       "[Text(0.5, 0, 'X'), Text(0, 0.5, 'Y')]"
      ]
     },
     "execution_count": 47,
     "metadata": {},
     "output_type": "execute_result"
    },
    {
     "data": {
      "image/png": "[encoded data removed]",
      "text/plain": [
       "<Figure size 432x288 with 1 Axes>"
      ]
     },
     "metadata": {
      "needs_background": "light"
     },
     "output_type": "display_data"
    }
   ],
   "source": [
    "ax = sns.scatterplot(data = data, x = \"Age\", y = \"Absences\")\n",
    "sns.lineplot(data = data, x = \"Age\",y = I+(S*data[\"Age\"]), color='green')\n",
    "ax.set(xlabel='X', ylabel='Y')"
   ]
  },
  {
   "cell_type": "code",
   "execution_count": 20,
   "metadata": {
    "ExecuteTime": {
     "end_time": "2021-04-23T13:52:09.510862Z",
     "start_time": "2021-04-23T13:52:09.212735Z"
    }
   },
   "outputs": [
    {
     "data": {
      "text/plain": [
       "<AxesSubplot:xlabel='Age', ylabel='Absences'>"
      ]
     },
     "execution_count": 20,
     "metadata": {},
     "output_type": "execute_result"
    },
    {
     "data": {
      "image/png": "[encoded data removed]",
      "text/plain": [
       "<Figure size 432x288 with 1 Axes>"
      ]
     },
     "metadata": {
      "needs_background": "light"
     },
     "output_type": "display_data"
    }
   ],
   "source": [
    "sns.regplot(x='Age',y='Absences', data=data, scatter_kws={\"color\": \"purple\"}, line_kws={\"color\": \"green\"})"
   ]
  },
  {
   "cell_type": "markdown",
   "metadata": {},
   "source": [
    "#### 4.- Define a function to calculate the covariance and the correlation of two variables."
   ]
  },
  {
   "cell_type": "code",
   "execution_count": 27,
   "metadata": {
    "ExecuteTime": {
     "end_time": "2021-04-23T14:04:17.438473Z",
     "start_time": "2021-04-23T14:04:17.433303Z"
    }
   },
   "outputs": [],
   "source": [
    "def co_varrelator(x, y, df):\n",
    "    r = np.sum((x - np.mean(x))*(y - np.mean(y))) / np.sqrt(\n",
    "        np.sum(np.power((x - np.mean(x)), 2))*np.sum(np.power((y - np.mean(y)), 2)))\n",
    "    cov = np.sum((x - np.mean(x))*(y - np.mean(y))) / (len(df)-1)\n",
    "    return r, cov"
   ]
  },
  {
   "cell_type": "markdown",
   "metadata": {},
   "source": [
    "#### 5.- Use the function you defined in step 4 to calculate the covariance and the correlation of `Age` and `Absences`. Compare them and comment."
   ]
  },
  {
   "cell_type": "code",
   "execution_count": 28,
   "metadata": {
    "ExecuteTime": {
     "end_time": "2021-04-23T14:05:08.635095Z",
     "start_time": "2021-04-23T14:05:08.617189Z"
    }
   },
   "outputs": [
    {
     "data": {
      "text/plain": [
       "(-0.9325434092481012, -57.699999999999996)"
      ]
     },
     "execution_count": 28,
     "metadata": {},
     "output_type": "execute_result"
    }
   ],
   "source": [
    "co_varrelator(data[\"Age\"],data[\"Absences\"],data)"
   ]
  },
  {
   "cell_type": "code",
   "execution_count": null,
   "metadata": {
    "ExecuteTime": {
     "end_time": "2021-04-23T12:58:31.853068Z",
     "start_time": "2021-04-23T12:58:26.980Z"
    }
   },
   "outputs": [],
   "source": [
    "\"\"\"\"\n",
    "The negative values confirms the negative relationship.\n",
    "\"\"\"\""
   ]
  },
  {
   "cell_type": "markdown",
   "metadata": {},
   "source": [
    "#### 6.- Summarize your results, interpret them and give some insights. Can you confirm that the age is an indicator of absenteeism?"
   ]
  },
  {
   "cell_type": "code",
   "execution_count": null,
   "metadata": {
    "ExecuteTime": {
     "end_time": "2021-04-23T12:58:31.863658Z",
     "start_time": "2021-04-23T12:58:26.982Z"
    }
   },
   "outputs": [],
   "source": [
    "\"\"\"\n",
    "To summarize, it's safe to say that Age is a factor in absence level. \n",
    "The younger the employee, the more likely he/she will be absent.\n",
    "\"\"\""
   ]
  },
  {
   "cell_type": "markdown",
   "metadata": {},
   "source": [
    "## Challenge 2\n",
    "\n",
    "Good Ironhackers stay in campus on Fridays for Ironbeers. You suspect that the more people you tell to stay, the most likely it is that they don't. You want to know if you are the reason why people don't stay so you decide to do an analysis. \n",
    "\n",
    "X is the number of people that you told to stay and Y is the number of people that actually stayed.\n",
    "\n",
    "| X | Y |\n",
    "|---|---|\n",
    "| 1 | 1 |\n",
    "| 3 | 2 |\n",
    "| 4 | 4 |\n",
    "| 6 | 4 |\n",
    "| 8 | 5 |\n",
    "| 9 | 7 |\n",
    "| 11 |8 |\n",
    "| 14 | 9 |\n",
    "\n",
    "Use the following command to create a dataframe with the data about Ironbeers attendance:"
   ]
  },
  {
   "cell_type": "code",
   "execution_count": 29,
   "metadata": {
    "ExecuteTime": {
     "end_time": "2021-04-23T14:43:34.524252Z",
     "start_time": "2021-04-23T14:43:34.512504Z"
    }
   },
   "outputs": [],
   "source": [
    "ironbeers_df = pd.DataFrame({'X': [1,3,4,6,8,9,11,14], 'Y': [1,2,4,4,5,7,8,9]})"
   ]
  },
  {
   "cell_type": "markdown",
   "metadata": {},
   "source": [
    "#### 1.- Calculate the covariance and the correlation of `X` and `Y`. Comment on the results."
   ]
  },
  {
   "cell_type": "code",
   "execution_count": 32,
   "metadata": {
    "ExecuteTime": {
     "end_time": "2021-04-23T14:44:37.423019Z",
     "start_time": "2021-04-23T14:44:37.411462Z"
    }
   },
   "outputs": [
    {
     "data": {
      "text/plain": [
       "(0.9770084209183943, 12.0)"
      ]
     },
     "execution_count": 32,
     "metadata": {},
     "output_type": "execute_result"
    }
   ],
   "source": [
    "co_varrelator(ironbeers_df[\"X\"], ironbeers_df[\"Y\"], ironbeers_df)"
   ]
  },
  {
   "cell_type": "code",
   "execution_count": null,
   "metadata": {
    "ExecuteTime": {
     "end_time": "2021-04-23T12:58:31.871332Z",
     "start_time": "2021-04-23T12:58:26.992Z"
    }
   },
   "outputs": [],
   "source": [
    "\"\"\"There seems to be a positive correlation\"\"\""
   ]
  },
  {
   "cell_type": "markdown",
   "metadata": {},
   "source": [
    "#### 2.- Plot the scatter chart of `X` and `Y`. Comment on the results."
   ]
  },
  {
   "cell_type": "code",
   "execution_count": 33,
   "metadata": {
    "ExecuteTime": {
     "end_time": "2021-04-23T14:45:30.751118Z",
     "start_time": "2021-04-23T14:45:30.489596Z"
    }
   },
   "outputs": [
    {
     "data": {
      "text/plain": [
       "<AxesSubplot:xlabel='X', ylabel='Y'>"
      ]
     },
     "execution_count": 33,
     "metadata": {},
     "output_type": "execute_result"
    },
    {
     "data": {
      "image/png": "[encoded data removed]",
      "text/plain": [
       "<Figure size 432x288 with 1 Axes>"
      ]
     },
     "metadata": {
      "needs_background": "light"
     },
     "output_type": "display_data"
    }
   ],
   "source": [
    "sns.scatterplot(data=ironbeers_df, x=\"X\", y=\"Y\")"
   ]
  },
  {
   "cell_type": "code",
   "execution_count": null,
   "metadata": {
    "ExecuteTime": {
     "end_time": "2021-04-23T12:58:31.879243Z",
     "start_time": "2021-04-23T12:58:27.002Z"
    }
   },
   "outputs": [],
   "source": [
    "\"\"\"There is a positive linear correlation\"\"\""
   ]
  },
  {
   "cell_type": "markdown",
   "metadata": {},
   "source": [
    "#### 3.- Calculate the regression line for `X` and `Y`. Commment on the results."
   ]
  },
  {
   "cell_type": "code",
   "execution_count": 35,
   "metadata": {
    "ExecuteTime": {
     "end_time": "2021-04-23T14:51:24.704084Z",
     "start_time": "2021-04-23T14:51:24.688504Z"
    }
   },
   "outputs": [
    {
     "name": "stdout",
     "output_type": "stream",
     "text": [
      "The slope is: 0.64, and the intercept is: 0.55\n"
     ]
    }
   ],
   "source": [
    "S_1 = sloper(ironbeers_df[\"X\"],ironbeers_df[\"Y\"])\n",
    "I_1 = intercepter(ironbeers_df[\"X\"],ironbeers_df[\"Y\"],S_1)\n",
    "print(\"The slope is: {:.2f}, and the intercept is: {:.2f}\".format(S_1,I_1))"
   ]
  },
  {
   "cell_type": "code",
   "execution_count": 48,
   "metadata": {
    "ExecuteTime": {
     "end_time": "2021-04-23T15:47:28.624148Z",
     "start_time": "2021-04-23T15:47:28.258337Z"
    }
   },
   "outputs": [
    {
     "data": {
      "text/plain": [
       "<AxesSubplot:xlabel='X', ylabel='Y'>"
      ]
     },
     "execution_count": 48,
     "metadata": {},
     "output_type": "execute_result"
    },
    {
     "data": {
      "image/png": "[encoded data removed]",
      "text/plain": [
       "<Figure size 432x288 with 1 Axes>"
      ]
     },
     "metadata": {
      "needs_background": "light"
     },
     "output_type": "display_data"
    }
   ],
   "source": [
    "sns.regplot(x='X',y='Y', data=ironbeers_df, scatter_kws={\"color\": \"purple\"}, line_kws={\"color\": \"green\"})"
   ]
  },
  {
   "cell_type": "markdown",
   "metadata": {},
   "source": [
    "#### 4.- What is your conclusion? Are you the reason why people is not staying on Fridays?"
   ]
  },
  {
   "cell_type": "code",
   "execution_count": null,
   "metadata": {
    "ExecuteTime": {
     "end_time": "2021-04-23T12:58:31.901050Z",
     "start_time": "2021-04-23T12:58:27.012Z"
    }
   },
   "outputs": [],
   "source": [
    "\"\"\"I was wrong! Yes, I should always tell people to stay for beers from now on\"\"\""
   ]
  },
  {
   "cell_type": "markdown",
   "metadata": {},
   "source": [
    "## Bonus Challenge: Error Analysis\n",
    "\n",
    "You are going to do an analysis to check whether two random variables fit into a linear regression or not.\n",
    "\n",
    "In this challenge, you are asked to do an error analysis using the data in **challenge 2**. An \"error\" is the difference between the expected value of an observation (the regression line value) and the actual value.\n",
    "\n",
    "#### 1.- First create a new column `expected_Y` in `ironbeers_df` to store the expected `Y` value for each `X`.\n",
    "**Hint**: You get the expected `Y` by evaluating the regression line for each `X`."
   ]
  },
  {
   "cell_type": "code",
   "execution_count": null,
   "metadata": {
    "ExecuteTime": {
     "end_time": "2021-04-23T12:58:31.904824Z",
     "start_time": "2021-04-23T12:58:27.015Z"
    }
   },
   "outputs": [],
   "source": [
    "# your code here"
   ]
  },
  {
   "cell_type": "markdown",
   "metadata": {},
   "source": [
    "#### 2.- Create a new column `error` in `ironbeers_df` to store the error between the actual and expected values of `Y`. Plot the scatter chart of `X` and `error`."
   ]
  },
  {
   "cell_type": "code",
   "execution_count": null,
   "metadata": {
    "ExecuteTime": {
     "end_time": "2021-04-23T12:58:31.909425Z",
     "start_time": "2021-04-23T12:58:27.018Z"
    }
   },
   "outputs": [],
   "source": [
    "# your code here"
   ]
  },
  {
   "cell_type": "markdown",
   "metadata": {},
   "source": [
    "#### 3.- The closer the points to zero, the best the actual values fit the linear regression. Comment the plot above. Do you see any particular points with a high error?"
   ]
  },
  {
   "cell_type": "code",
   "execution_count": null,
   "metadata": {
    "ExecuteTime": {
     "end_time": "2021-04-23T12:58:31.914054Z",
     "start_time": "2021-04-23T12:58:27.021Z"
    }
   },
   "outputs": [],
   "source": [
    "# your comments here"
   ]
  },
  {
   "cell_type": "markdown",
   "metadata": {},
   "source": [
    "#### 4.- Remove the points with a high error and recalculate the regression line."
   ]
  },
  {
   "cell_type": "code",
   "execution_count": null,
   "metadata": {
    "ExecuteTime": {
     "end_time": "2021-04-23T12:58:31.917294Z",
     "start_time": "2021-04-23T12:58:27.025Z"
    }
   },
   "outputs": [],
   "source": [
    "# your code here"
   ]
  },
  {
   "cell_type": "markdown",
   "metadata": {},
   "source": [
    "#### 5.- Calculate the correlation. What is happening? Comment the result."
   ]
  },
  {
   "cell_type": "code",
   "execution_count": null,
   "metadata": {
    "ExecuteTime": {
     "end_time": "2021-04-23T12:58:31.922580Z",
     "start_time": "2021-04-23T12:58:27.028Z"
    }
   },
   "outputs": [],
   "source": [
    "# your code here"
   ]
  },
  {
   "cell_type": "code",
   "execution_count": null,
   "metadata": {
    "ExecuteTime": {
     "end_time": "2021-04-23T12:58:31.931083Z",
     "start_time": "2021-04-23T12:58:27.032Z"
    }
   },
   "outputs": [],
   "source": [
    "# your comments here"
   ]
  }
 ],
 "metadata": {
  "kernelspec": {
   "display_name": "Python 3",
   "language": "python",
   "name": "python3"
  },
  "language_info": {
   "codemirror_mode": {
    "name": "ipython",
    "version": 3
   },
   "file_extension": ".py",
   "mimetype": "text/x-python",
   "name": "python",
   "nbconvert_exporter": "python",
   "pygments_lexer": "ipython3",
   "version": "3.8.5"
  },
  "toc": {
   "base_numbering": 1,
   "nav_menu": {},
   "number_sections": true,
   "sideBar": true,
   "skip_h1_title": false,
   "title_cell": "Table of Contents",
   "title_sidebar": "Contents",
   "toc_cell": true,
   "toc_position": {},
   "toc_section_display": true,
   "toc_window_display": false
  },
  "varInspector": {
   "cols": {
    "lenName": 16,
    "lenType": 16,
    "lenVar": 40
   },
   "kernels_config": {
    "python": {
     "delete_cmd_postfix": "",
     "delete_cmd_prefix": "del ",
     "library": "var_list.py",
     "varRefreshCmd": "print(var_dic_list())"
    },
    "r": {
     "delete_cmd_postfix": ") ",
     "delete_cmd_prefix": "rm(",
     "library": "var_list.r",
     "varRefreshCmd": "cat(var_dic_list()) "
    }
   },
   "types_to_exclude": [
    "module",
    "function",
    "builtin_function_or_method",
    "instance",
    "_Feature"
   ],
   "window_display": false
  }
 },
 "nbformat": 4,
 "nbformat_minor": 2
}
